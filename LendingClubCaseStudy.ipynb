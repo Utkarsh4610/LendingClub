{
 "cells": [
  {
   "cell_type": "code",
   "execution_count": 351,
   "metadata": {},
   "outputs": [],
   "source": [
    "import numpy as np\n",
    "import pandas as pd"
   ]
  },
  {
   "cell_type": "markdown",
   "metadata": {},
   "source": [
    "#### Load Dataframe"
   ]
  },
  {
   "cell_type": "code",
   "execution_count": 352,
   "metadata": {},
   "outputs": [],
   "source": [
    "#load data in dataframe\n",
    "loan_master = pd.read_csv('loan.csv',low_memory=False)"
   ]
  },
  {
   "cell_type": "code",
   "execution_count": 353,
   "metadata": {},
   "outputs": [
    {
     "data": {
      "text/plain": [
       "(39717, 111)"
      ]
     },
     "execution_count": 353,
     "metadata": {},
     "output_type": "execute_result"
    }
   ],
   "source": [
    "#check number of rows and columns\n",
    "loan_master.shape"
   ]
  },
  {
   "cell_type": "markdown",
   "metadata": {},
   "source": [
    "#### User Defined Functions "
   ]
  },
  {
   "cell_type": "code",
   "execution_count": 354,
   "metadata": {},
   "outputs": [],
   "source": [
    "#function to check for nulls and only display the columns having nulls \n",
    "def check_null(dataframe, percentage=True):\n",
    "    if percentage==True:\n",
    "        return round(dataframe.isnull().mean()[dataframe.isnull().mean()>0].apply(lambda x: x*100),3)\n",
    "    else:\n",
    "        return dataframe.isnull().sum()[dataframe.isnull().sum()>0]"
   ]
  },
  {
   "cell_type": "code",
   "execution_count": 355,
   "metadata": {},
   "outputs": [],
   "source": [
    "#function to drop columns based on NULLs percentage\n",
    "def drop_columns_null_perc(dataframe, percentage):\n",
    "    n_thresh = int(len(loan_master)*(1-(percentage/100)))\n",
    "    dataframe.dropna(axis=1,thresh=n_thresh, inplace=True)"
   ]
  },
  {
   "cell_type": "markdown",
   "metadata": {},
   "source": [
    "## Data Cleaning"
   ]
  },
  {
   "cell_type": "markdown",
   "metadata": {},
   "source": [
    "#### Data Cleaning - Handle Nulls"
   ]
  },
  {
   "cell_type": "code",
   "execution_count": 356,
   "metadata": {},
   "outputs": [
    {
     "data": {
      "text/plain": [
       "emp_title                       6.191\n",
       "emp_length                      2.707\n",
       "desc                           32.581\n",
       "title                           0.028\n",
       "mths_since_last_delinq         64.662\n",
       "                               ...   \n",
       "tax_liens                       0.098\n",
       "tot_hi_cred_lim               100.000\n",
       "total_bal_ex_mort             100.000\n",
       "total_bc_limit                100.000\n",
       "total_il_high_credit_limit    100.000\n",
       "Length: 68, dtype: float64"
      ]
     },
     "execution_count": 356,
     "metadata": {},
     "output_type": "execute_result"
    }
   ],
   "source": [
    "#check columns having nulls\n",
    "check_null(loan_master)"
   ]
  },
  {
   "cell_type": "markdown",
   "metadata": {},
   "source": [
    "##### Drop columns having ALL nulls"
   ]
  },
  {
   "cell_type": "code",
   "execution_count": 357,
   "metadata": {
    "scrolled": true
   },
   "outputs": [
    {
     "data": {
      "text/plain": [
       "(39717, 57)"
      ]
     },
     "execution_count": 357,
     "metadata": {},
     "output_type": "execute_result"
    }
   ],
   "source": [
    "loan_master.dropna(axis=1, how='all', inplace=True)\n",
    "#check shape again\n",
    "loan_master.shape\n",
    "#54 such columns removed"
   ]
  },
  {
   "cell_type": "code",
   "execution_count": 358,
   "metadata": {
    "scrolled": true
   },
   "outputs": [
    {
     "data": {
      "text/plain": [
       "emp_title                      6.191\n",
       "emp_length                     2.707\n",
       "desc                          32.581\n",
       "title                          0.028\n",
       "mths_since_last_delinq        64.662\n",
       "mths_since_last_record        92.985\n",
       "revol_util                     0.126\n",
       "last_pymnt_d                   0.179\n",
       "next_pymnt_d                  97.130\n",
       "last_credit_pull_d             0.005\n",
       "collections_12_mths_ex_med     0.141\n",
       "chargeoff_within_12_mths       0.141\n",
       "pub_rec_bankruptcies           1.755\n",
       "tax_liens                      0.098\n",
       "dtype: float64"
      ]
     },
     "execution_count": 358,
     "metadata": {},
     "output_type": "execute_result"
    }
   ],
   "source": [
    "check_null(loan_master)"
   ]
  },
  {
   "cell_type": "markdown",
   "metadata": {},
   "source": [
    "##### Drop columns with >90% null rows\n",
    "Columns: next_pymnt_d and mths_since_last_record"
   ]
  },
  {
   "cell_type": "code",
   "execution_count": 359,
   "metadata": {},
   "outputs": [],
   "source": [
    "drop_columns_null_perc(loan_master, 90)"
   ]
  },
  {
   "cell_type": "code",
   "execution_count": 360,
   "metadata": {},
   "outputs": [
    {
     "data": {
      "text/plain": [
       "emp_title                      6.191\n",
       "emp_length                     2.707\n",
       "desc                          32.581\n",
       "title                          0.028\n",
       "mths_since_last_delinq        64.662\n",
       "revol_util                     0.126\n",
       "last_pymnt_d                   0.179\n",
       "last_credit_pull_d             0.005\n",
       "collections_12_mths_ex_med     0.141\n",
       "chargeoff_within_12_mths       0.141\n",
       "pub_rec_bankruptcies           1.755\n",
       "tax_liens                      0.098\n",
       "dtype: float64"
      ]
     },
     "execution_count": 360,
     "metadata": {},
     "output_type": "execute_result"
    }
   ],
   "source": [
    "check_null(loan_master)"
   ]
  },
  {
   "cell_type": "markdown",
   "metadata": {},
   "source": [
    "##### Drop rows with <7% of nulls\n",
    "For columns: \n",
    "emp_title, emp_length, title, revol_util, last_pymnt_d, last_credit_pull_d,\n",
    "collections_12_mths_ex_med, chargeoff_within_12_mths, pub_rec_bankruptcies, tax_liens"
   ]
  },
  {
   "cell_type": "code",
   "execution_count": 299,
   "metadata": {},
   "outputs": [
    {
     "data": {
      "text/plain": [
       "(39717, 55)"
      ]
     },
     "execution_count": 299,
     "metadata": {},
     "output_type": "execute_result"
    }
   ],
   "source": [
    "#trying to find a way to do it without writing individual lines as in next cell\n",
    "#int(len(loan_master)*0.07)\n",
    "df = loan_master.dropna(thresh=5)\n",
    "df.shape"
   ]
  },
  {
   "cell_type": "code",
   "execution_count": 139,
   "metadata": {},
   "outputs": [],
   "source": [
    "\n",
    "loan_master = loan_master.loc[loan_master[''].notnull(),:]\n",
    "loan_master = loan_master.loc[loan_master['emp_length'].notnull(),:]\n",
    "loan_master = loan_master.loc[loan_master['title'].notnull(),:]\n",
    "loan_master = loan_master.loc[loan_master[''].notnull(),:]revol_util\n",
    "loan_master = loan_master.loc[loan_master[''].notnull(),:]last_pymnt_d\n",
    "loan_master = loan_master.loc[loan_master['last_credit_pull_d'].notnull(),:]\n",
    "loan_master = loan_master.loc[loan_master[''].notnull(),:]collections_12_mths_ex_med\n",
    "loan_master = loan_master.loc[loan_master[''].notnull(),:]chargeoff_within_12_mths\n",
    "loan_master = loan_master.loc[loan_master[''].notnull(),:]pub_rec_bankruptcies\n",
    "loan_master = loan_master.loc[loan_master[''].notnull(),:]tax_liens"
   ]
  },
  {
   "cell_type": "markdown",
   "metadata": {},
   "source": [
    "#### Data Cleaning - Drop irrelevant columns"
   ]
  },
  {
   "cell_type": "code",
   "execution_count": 42,
   "metadata": {
    "scrolled": true
   },
   "outputs": [],
   "source": [
    "#Drop desc column\n",
    "loan_master.drop(['desc'],axis=1, inplace=True)"
   ]
  },
  {
   "cell_type": "code",
   "execution_count": 43,
   "metadata": {},
   "outputs": [],
   "source": [
    "#Drop title column\n",
    "#loan_master.drop(['title'],axis=1, inplace=True)\n",
    "#chcek for analysis"
   ]
  },
  {
   "cell_type": "code",
   "execution_count": 44,
   "metadata": {},
   "outputs": [],
   "source": [
    "#mths_since_last_delinq-remove?can use delinq 2 years instead?"
   ]
  },
  {
   "cell_type": "code",
   "execution_count": 45,
   "metadata": {},
   "outputs": [],
   "source": [
    "#loan_master['next_pymnt_d'][~loan_master['next_pymnt_d'].isnull()].value_counts()\n",
    "#keeping this column for now as those 1140 entries are for Current loan status\n",
    "#removed!!! check later"
   ]
  },
  {
   "cell_type": "code",
   "execution_count": 46,
   "metadata": {},
   "outputs": [],
   "source": [
    "#Drop zip code\n",
    "loan_master.drop(['zip_code'],axis=1, inplace=True)"
   ]
  },
  {
   "cell_type": "code",
   "execution_count": 47,
   "metadata": {},
   "outputs": [],
   "source": [
    "#Drop url as not needed for our analysis\n",
    "#Loan id is a part of url, but is already available in id column\n",
    "loan_master.drop(['url'],axis=1, inplace=True)"
   ]
  },
  {
   "cell_type": "code",
   "execution_count": 48,
   "metadata": {
    "scrolled": true
   },
   "outputs": [
    {
     "data": {
      "text/plain": [
       "emp_title                      3.7\n",
       "title                          0.0\n",
       "mths_since_last_delinq        64.6\n",
       "revol_util                     0.1\n",
       "last_pymnt_d                   0.2\n",
       "collections_12_mths_ex_med     0.1\n",
       "chargeoff_within_12_mths       0.1\n",
       "pub_rec_bankruptcies           1.8\n",
       "tax_liens                      0.1\n",
       "dtype: float64"
      ]
     },
     "execution_count": 48,
     "metadata": {},
     "output_type": "execute_result"
    }
   ],
   "source": [
    "#check columns having nulls\n",
    "check_null(loan_master)"
   ]
  },
  {
   "cell_type": "code",
   "execution_count": 49,
   "metadata": {},
   "outputs": [
    {
     "name": "stdout",
     "output_type": "stream",
     "text": [
      "unique id:  38640\n",
      "unique member id:  38640\n"
     ]
    }
   ],
   "source": [
    "#check uniqueness of id and member id\n",
    "print('unique id: ',loan_master['id'].nunique())\n",
    "print('unique member id: ',loan_master['member_id'].nunique())\n",
    "#both are unique"
   ]
  },
  {
   "cell_type": "markdown",
   "metadata": {},
   "source": [
    "#### Data Cleaning - Handle Data Types"
   ]
  },
  {
   "cell_type": "code",
   "execution_count": 82,
   "metadata": {},
   "outputs": [
    {
     "name": "stdout",
     "output_type": "stream",
     "text": [
      "<class 'pandas.core.frame.DataFrame'>\n",
      "Int64Index: 38640 entries, 0 to 39716\n",
      "Data columns (total 52 columns):\n",
      " #   Column                      Non-Null Count  Dtype  \n",
      "---  ------                      --------------  -----  \n",
      " 0   id                          38640 non-null  int64  \n",
      " 1   member_id                   38640 non-null  int64  \n",
      " 2   loan_amnt                   38640 non-null  int64  \n",
      " 3   funded_amnt                 38640 non-null  int64  \n",
      " 4   funded_amnt_inv             38640 non-null  float64\n",
      " 5   term_months                 38640 non-null  int64  \n",
      " 6   int_rate                    38640 non-null  float64\n",
      " 7   installment                 38640 non-null  float64\n",
      " 8   grade                       38640 non-null  object \n",
      " 9   sub_grade                   38640 non-null  object \n",
      " 10  emp_title                   37202 non-null  object \n",
      " 11  emp_length                  38640 non-null  object \n",
      " 12  home_ownership              38640 non-null  object \n",
      " 13  annual_inc                  38640 non-null  float64\n",
      " 14  verification_status         38640 non-null  object \n",
      " 15  issue_d                     38640 non-null  object \n",
      " 16  loan_status                 38640 non-null  object \n",
      " 17  pymnt_plan                  38640 non-null  object \n",
      " 18  purpose                     38640 non-null  object \n",
      " 19  title                       38630 non-null  object \n",
      " 20  addr_state                  38640 non-null  object \n",
      " 21  dti                         38640 non-null  float64\n",
      " 22  delinq_2yrs                 38640 non-null  int64  \n",
      " 23  earliest_cr_line            38640 non-null  object \n",
      " 24  inq_last_6mths              38640 non-null  int64  \n",
      " 25  mths_since_last_delinq      13689 non-null  float64\n",
      " 26  open_acc                    38640 non-null  int64  \n",
      " 27  pub_rec                     38640 non-null  int64  \n",
      " 28  revol_bal                   38640 non-null  int64  \n",
      " 29  revol_util                  38593 non-null  object \n",
      " 30  total_acc                   38640 non-null  int64  \n",
      " 31  initial_list_status         38640 non-null  object \n",
      " 32  out_prncp                   38640 non-null  float64\n",
      " 33  out_prncp_inv               38640 non-null  float64\n",
      " 34  total_pymnt                 38640 non-null  float64\n",
      " 35  total_pymnt_inv             38640 non-null  float64\n",
      " 36  total_rec_prncp             38640 non-null  float64\n",
      " 37  total_rec_int               38640 non-null  float64\n",
      " 38  total_rec_late_fee          38640 non-null  float64\n",
      " 39  recoveries                  38640 non-null  float64\n",
      " 40  collection_recovery_fee     38640 non-null  float64\n",
      " 41  last_pymnt_d                38574 non-null  object \n",
      " 42  last_pymnt_amnt             38640 non-null  float64\n",
      " 43  last_credit_pull_d          38640 non-null  object \n",
      " 44  collections_12_mths_ex_med  38584 non-null  float64\n",
      " 45  policy_code                 38640 non-null  int64  \n",
      " 46  application_type            38640 non-null  object \n",
      " 47  acc_now_delinq              38640 non-null  int64  \n",
      " 48  chargeoff_within_12_mths    38584 non-null  float64\n",
      " 49  delinq_amnt                 38640 non-null  int64  \n",
      " 50  pub_rec_bankruptcies        37944 non-null  float64\n",
      " 51  tax_liens                   38601 non-null  float64\n",
      "dtypes: float64(20), int64(14), object(18)\n",
      "memory usage: 15.6+ MB\n"
     ]
    }
   ],
   "source": [
    "#check for object dtypes \n",
    "loan_master.info()"
   ]
  },
  {
   "cell_type": "code",
   "execution_count": 51,
   "metadata": {
    "scrolled": true
   },
   "outputs": [],
   "source": [
    "#fix data type for 'term' as int64\n",
    "loan_master['term'] = loan_master['term'].apply(lambda x: str(x).replace('months','').strip()).astype('int64')\n",
    "loan_master = loan_master.rename(columns={'term':'term_months'})"
   ]
  },
  {
   "cell_type": "code",
   "execution_count": 52,
   "metadata": {},
   "outputs": [],
   "source": [
    "#fix data type for 'int_rate' as 'float64' \n",
    "loan_master['int_rate'] = loan_master['int_rate'].apply(lambda x: str(x).replace('%','').strip()).astype('float64')"
   ]
  },
  {
   "cell_type": "code",
   "execution_count": 53,
   "metadata": {},
   "outputs": [
    {
     "data": {
      "text/plain": [
       "10+ years    8879\n",
       "< 1 year     4582\n",
       "2 years      4388\n",
       "3 years      4095\n",
       "4 years      3436\n",
       "5 years      3281\n",
       "1 year       3240\n",
       "6 years      2229\n",
       "7 years      1773\n",
       "8 years      1479\n",
       "9 years      1258\n",
       "Name: emp_length, dtype: int64"
      ]
     },
     "execution_count": 53,
     "metadata": {},
     "output_type": "execute_result"
    }
   ],
   "source": [
    "#fix data type emp_length\n",
    "loan_master['emp_length'].value_counts()"
   ]
  },
  {
   "cell_type": "code",
   "execution_count": 54,
   "metadata": {},
   "outputs": [
    {
     "data": {
      "text/html": [
       "<div>\n",
       "<style scoped>\n",
       "    .dataframe tbody tr th:only-of-type {\n",
       "        vertical-align: middle;\n",
       "    }\n",
       "\n",
       "    .dataframe tbody tr th {\n",
       "        vertical-align: top;\n",
       "    }\n",
       "\n",
       "    .dataframe thead th {\n",
       "        text-align: right;\n",
       "    }\n",
       "</style>\n",
       "<table border=\"1\" class=\"dataframe\">\n",
       "  <thead>\n",
       "    <tr style=\"text-align: right;\">\n",
       "      <th></th>\n",
       "      <th>id</th>\n",
       "      <th>member_id</th>\n",
       "      <th>loan_amnt</th>\n",
       "      <th>funded_amnt</th>\n",
       "      <th>funded_amnt_inv</th>\n",
       "      <th>term_months</th>\n",
       "      <th>int_rate</th>\n",
       "      <th>installment</th>\n",
       "      <th>grade</th>\n",
       "      <th>sub_grade</th>\n",
       "      <th>...</th>\n",
       "      <th>last_pymnt_amnt</th>\n",
       "      <th>last_credit_pull_d</th>\n",
       "      <th>collections_12_mths_ex_med</th>\n",
       "      <th>policy_code</th>\n",
       "      <th>application_type</th>\n",
       "      <th>acc_now_delinq</th>\n",
       "      <th>chargeoff_within_12_mths</th>\n",
       "      <th>delinq_amnt</th>\n",
       "      <th>pub_rec_bankruptcies</th>\n",
       "      <th>tax_liens</th>\n",
       "    </tr>\n",
       "  </thead>\n",
       "  <tbody>\n",
       "    <tr>\n",
       "      <th>0</th>\n",
       "      <td>1077501</td>\n",
       "      <td>1296599</td>\n",
       "      <td>5000</td>\n",
       "      <td>5000</td>\n",
       "      <td>4975.0</td>\n",
       "      <td>36</td>\n",
       "      <td>10.65</td>\n",
       "      <td>162.87</td>\n",
       "      <td>B</td>\n",
       "      <td>B2</td>\n",
       "      <td>...</td>\n",
       "      <td>171.62</td>\n",
       "      <td>May-16</td>\n",
       "      <td>0.0</td>\n",
       "      <td>1</td>\n",
       "      <td>INDIVIDUAL</td>\n",
       "      <td>0</td>\n",
       "      <td>0.0</td>\n",
       "      <td>0</td>\n",
       "      <td>0.0</td>\n",
       "      <td>0.0</td>\n",
       "    </tr>\n",
       "    <tr>\n",
       "      <th>1</th>\n",
       "      <td>1077430</td>\n",
       "      <td>1314167</td>\n",
       "      <td>2500</td>\n",
       "      <td>2500</td>\n",
       "      <td>2500.0</td>\n",
       "      <td>60</td>\n",
       "      <td>15.27</td>\n",
       "      <td>59.83</td>\n",
       "      <td>C</td>\n",
       "      <td>C4</td>\n",
       "      <td>...</td>\n",
       "      <td>119.66</td>\n",
       "      <td>Sep-13</td>\n",
       "      <td>0.0</td>\n",
       "      <td>1</td>\n",
       "      <td>INDIVIDUAL</td>\n",
       "      <td>0</td>\n",
       "      <td>0.0</td>\n",
       "      <td>0</td>\n",
       "      <td>0.0</td>\n",
       "      <td>0.0</td>\n",
       "    </tr>\n",
       "    <tr>\n",
       "      <th>2</th>\n",
       "      <td>1077175</td>\n",
       "      <td>1313524</td>\n",
       "      <td>2400</td>\n",
       "      <td>2400</td>\n",
       "      <td>2400.0</td>\n",
       "      <td>36</td>\n",
       "      <td>15.96</td>\n",
       "      <td>84.33</td>\n",
       "      <td>C</td>\n",
       "      <td>C5</td>\n",
       "      <td>...</td>\n",
       "      <td>649.91</td>\n",
       "      <td>May-16</td>\n",
       "      <td>0.0</td>\n",
       "      <td>1</td>\n",
       "      <td>INDIVIDUAL</td>\n",
       "      <td>0</td>\n",
       "      <td>0.0</td>\n",
       "      <td>0</td>\n",
       "      <td>0.0</td>\n",
       "      <td>0.0</td>\n",
       "    </tr>\n",
       "    <tr>\n",
       "      <th>3</th>\n",
       "      <td>1076863</td>\n",
       "      <td>1277178</td>\n",
       "      <td>10000</td>\n",
       "      <td>10000</td>\n",
       "      <td>10000.0</td>\n",
       "      <td>36</td>\n",
       "      <td>13.49</td>\n",
       "      <td>339.31</td>\n",
       "      <td>C</td>\n",
       "      <td>C1</td>\n",
       "      <td>...</td>\n",
       "      <td>357.48</td>\n",
       "      <td>Apr-16</td>\n",
       "      <td>0.0</td>\n",
       "      <td>1</td>\n",
       "      <td>INDIVIDUAL</td>\n",
       "      <td>0</td>\n",
       "      <td>0.0</td>\n",
       "      <td>0</td>\n",
       "      <td>0.0</td>\n",
       "      <td>0.0</td>\n",
       "    </tr>\n",
       "    <tr>\n",
       "      <th>4</th>\n",
       "      <td>1075358</td>\n",
       "      <td>1311748</td>\n",
       "      <td>3000</td>\n",
       "      <td>3000</td>\n",
       "      <td>3000.0</td>\n",
       "      <td>60</td>\n",
       "      <td>12.69</td>\n",
       "      <td>67.79</td>\n",
       "      <td>B</td>\n",
       "      <td>B5</td>\n",
       "      <td>...</td>\n",
       "      <td>67.79</td>\n",
       "      <td>May-16</td>\n",
       "      <td>0.0</td>\n",
       "      <td>1</td>\n",
       "      <td>INDIVIDUAL</td>\n",
       "      <td>0</td>\n",
       "      <td>0.0</td>\n",
       "      <td>0</td>\n",
       "      <td>0.0</td>\n",
       "      <td>0.0</td>\n",
       "    </tr>\n",
       "  </tbody>\n",
       "</table>\n",
       "<p>5 rows × 52 columns</p>\n",
       "</div>"
      ],
      "text/plain": [
       "        id  member_id  loan_amnt  funded_amnt  funded_amnt_inv  term_months  \\\n",
       "0  1077501    1296599       5000         5000           4975.0           36   \n",
       "1  1077430    1314167       2500         2500           2500.0           60   \n",
       "2  1077175    1313524       2400         2400           2400.0           36   \n",
       "3  1076863    1277178      10000        10000          10000.0           36   \n",
       "4  1075358    1311748       3000         3000           3000.0           60   \n",
       "\n",
       "   int_rate  installment grade sub_grade  ... last_pymnt_amnt  \\\n",
       "0     10.65       162.87     B        B2  ...          171.62   \n",
       "1     15.27        59.83     C        C4  ...          119.66   \n",
       "2     15.96        84.33     C        C5  ...          649.91   \n",
       "3     13.49       339.31     C        C1  ...          357.48   \n",
       "4     12.69        67.79     B        B5  ...           67.79   \n",
       "\n",
       "  last_credit_pull_d collections_12_mths_ex_med  policy_code application_type  \\\n",
       "0             May-16                        0.0            1       INDIVIDUAL   \n",
       "1             Sep-13                        0.0            1       INDIVIDUAL   \n",
       "2             May-16                        0.0            1       INDIVIDUAL   \n",
       "3             Apr-16                        0.0            1       INDIVIDUAL   \n",
       "4             May-16                        0.0            1       INDIVIDUAL   \n",
       "\n",
       "  acc_now_delinq chargeoff_within_12_mths delinq_amnt pub_rec_bankruptcies  \\\n",
       "0              0                      0.0           0                  0.0   \n",
       "1              0                      0.0           0                  0.0   \n",
       "2              0                      0.0           0                  0.0   \n",
       "3              0                      0.0           0                  0.0   \n",
       "4              0                      0.0           0                  0.0   \n",
       "\n",
       "  tax_liens  \n",
       "0       0.0  \n",
       "1       0.0  \n",
       "2       0.0  \n",
       "3       0.0  \n",
       "4       0.0  \n",
       "\n",
       "[5 rows x 52 columns]"
      ]
     },
     "execution_count": 54,
     "metadata": {},
     "output_type": "execute_result"
    }
   ],
   "source": [
    "loan_master.head()"
   ]
  },
  {
   "cell_type": "markdown",
   "metadata": {},
   "source": [
    "### Analysis"
   ]
  },
  {
   "cell_type": "code",
   "execution_count": 79,
   "metadata": {},
   "outputs": [],
   "source": [
    "#create separate data frames based on loan status\n",
    "charged_off_loans = loan_master[loan_master['loan_status']=='Charged Off']\n",
    "current_loans = loan_master[loan_master['loan_status']=='Current']\n",
    "fully_paid_loans = loan_master[loan_master['loan_status']=='Fully Paid']"
   ]
  },
  {
   "cell_type": "code",
   "execution_count": 69,
   "metadata": {},
   "outputs": [
    {
     "data": {
      "text/html": [
       "<div>\n",
       "<style scoped>\n",
       "    .dataframe tbody tr th:only-of-type {\n",
       "        vertical-align: middle;\n",
       "    }\n",
       "\n",
       "    .dataframe tbody tr th {\n",
       "        vertical-align: top;\n",
       "    }\n",
       "\n",
       "    .dataframe thead th {\n",
       "        text-align: right;\n",
       "    }\n",
       "</style>\n",
       "<table border=\"1\" class=\"dataframe\">\n",
       "  <thead>\n",
       "    <tr style=\"text-align: right;\">\n",
       "      <th></th>\n",
       "      <th>open_acc</th>\n",
       "    </tr>\n",
       "    <tr>\n",
       "      <th>loan_status</th>\n",
       "      <th></th>\n",
       "    </tr>\n",
       "  </thead>\n",
       "  <tbody>\n",
       "    <tr>\n",
       "      <th>Charged Off</th>\n",
       "      <td>9</td>\n",
       "    </tr>\n",
       "    <tr>\n",
       "      <th>Current</th>\n",
       "      <td>9</td>\n",
       "    </tr>\n",
       "    <tr>\n",
       "      <th>Fully Paid</th>\n",
       "      <td>9</td>\n",
       "    </tr>\n",
       "  </tbody>\n",
       "</table>\n",
       "</div>"
      ],
      "text/plain": [
       "             open_acc\n",
       "loan_status          \n",
       "Charged Off         9\n",
       "Current             9\n",
       "Fully Paid          9"
      ]
     },
     "execution_count": 69,
     "metadata": {},
     "output_type": "execute_result"
    }
   ],
   "source": [
    "#avg open accounts\n",
    "loan_custattr = pd.pivot_table(loan_master,index='loan_status',values='open_acc',aggfunc=np.median)\n",
    "loan_custattr\n",
    "#doesn't matter"
   ]
  },
  {
   "cell_type": "code",
   "execution_count": 70,
   "metadata": {},
   "outputs": [
    {
     "data": {
      "text/html": [
       "<div>\n",
       "<style scoped>\n",
       "    .dataframe tbody tr th:only-of-type {\n",
       "        vertical-align: middle;\n",
       "    }\n",
       "\n",
       "    .dataframe tbody tr th {\n",
       "        vertical-align: top;\n",
       "    }\n",
       "\n",
       "    .dataframe thead th {\n",
       "        text-align: right;\n",
       "    }\n",
       "</style>\n",
       "<table border=\"1\" class=\"dataframe\">\n",
       "  <thead>\n",
       "    <tr style=\"text-align: right;\">\n",
       "      <th></th>\n",
       "      <th>total_acc</th>\n",
       "    </tr>\n",
       "    <tr>\n",
       "      <th>loan_status</th>\n",
       "      <th></th>\n",
       "    </tr>\n",
       "  </thead>\n",
       "  <tbody>\n",
       "    <tr>\n",
       "      <th>Charged Off</th>\n",
       "      <td>20</td>\n",
       "    </tr>\n",
       "    <tr>\n",
       "      <th>Current</th>\n",
       "      <td>22</td>\n",
       "    </tr>\n",
       "    <tr>\n",
       "      <th>Fully Paid</th>\n",
       "      <td>21</td>\n",
       "    </tr>\n",
       "  </tbody>\n",
       "</table>\n",
       "</div>"
      ],
      "text/plain": [
       "             total_acc\n",
       "loan_status           \n",
       "Charged Off         20\n",
       "Current             22\n",
       "Fully Paid          21"
      ]
     },
     "execution_count": 70,
     "metadata": {},
     "output_type": "execute_result"
    }
   ],
   "source": [
    "#avg total accounts\n",
    "loan_custattr = pd.pivot_table(loan_master,index='loan_status',values='total_acc',aggfunc=np.median)\n",
    "loan_custattr\n",
    "#doesn't matter"
   ]
  },
  {
   "cell_type": "code",
   "execution_count": 80,
   "metadata": {},
   "outputs": [
    {
     "data": {
      "text/plain": [
       "Not Verified       2048\n",
       "Verified           1954\n",
       "Source Verified    1396\n",
       "Name: verification_status, dtype: int64"
      ]
     },
     "execution_count": 80,
     "metadata": {},
     "output_type": "execute_result"
    }
   ],
   "source": [
    "#verification status\n",
    "charged_off_loans['verification_status'].value_counts()"
   ]
  },
  {
   "cell_type": "code",
   "execution_count": 81,
   "metadata": {
    "scrolled": true
   },
   "outputs": [
    {
     "data": {
      "text/plain": [
       "Not Verified       14228\n",
       "Verified            9818\n",
       "Source Verified     8098\n",
       "Name: verification_status, dtype: int64"
      ]
     },
     "execution_count": 81,
     "metadata": {},
     "output_type": "execute_result"
    }
   ],
   "source": [
    "#verification status\n",
    "fully_paid_loans['verification_status'].value_counts()"
   ]
  },
  {
   "cell_type": "code",
   "execution_count": 25,
   "metadata": {
    "scrolled": true
   },
   "outputs": [
    {
     "data": {
      "text/html": [
       "<div>\n",
       "<style scoped>\n",
       "    .dataframe tbody tr th:only-of-type {\n",
       "        vertical-align: middle;\n",
       "    }\n",
       "\n",
       "    .dataframe tbody tr th {\n",
       "        vertical-align: top;\n",
       "    }\n",
       "\n",
       "    .dataframe thead th {\n",
       "        text-align: right;\n",
       "    }\n",
       "</style>\n",
       "<table border=\"1\" class=\"dataframe\">\n",
       "  <thead>\n",
       "    <tr style=\"text-align: right;\">\n",
       "      <th></th>\n",
       "      <th>id</th>\n",
       "      <th>member_id</th>\n",
       "      <th>loan_amnt</th>\n",
       "      <th>funded_amnt</th>\n",
       "      <th>funded_amnt_inv</th>\n",
       "      <th>term_months</th>\n",
       "      <th>int_rate</th>\n",
       "      <th>installment</th>\n",
       "      <th>grade</th>\n",
       "      <th>sub_grade</th>\n",
       "      <th>...</th>\n",
       "      <th>last_pymnt_amnt</th>\n",
       "      <th>last_credit_pull_d</th>\n",
       "      <th>collections_12_mths_ex_med</th>\n",
       "      <th>policy_code</th>\n",
       "      <th>application_type</th>\n",
       "      <th>acc_now_delinq</th>\n",
       "      <th>chargeoff_within_12_mths</th>\n",
       "      <th>delinq_amnt</th>\n",
       "      <th>pub_rec_bankruptcies</th>\n",
       "      <th>tax_liens</th>\n",
       "    </tr>\n",
       "  </thead>\n",
       "  <tbody>\n",
       "    <tr>\n",
       "      <th>0</th>\n",
       "      <td>1077501</td>\n",
       "      <td>1296599</td>\n",
       "      <td>5000</td>\n",
       "      <td>5000</td>\n",
       "      <td>4975.0</td>\n",
       "      <td>36</td>\n",
       "      <td>10.65</td>\n",
       "      <td>162.87</td>\n",
       "      <td>B</td>\n",
       "      <td>B2</td>\n",
       "      <td>...</td>\n",
       "      <td>171.62</td>\n",
       "      <td>May-16</td>\n",
       "      <td>0.0</td>\n",
       "      <td>1</td>\n",
       "      <td>INDIVIDUAL</td>\n",
       "      <td>0</td>\n",
       "      <td>0.0</td>\n",
       "      <td>0</td>\n",
       "      <td>0.0</td>\n",
       "      <td>0.0</td>\n",
       "    </tr>\n",
       "    <tr>\n",
       "      <th>1</th>\n",
       "      <td>1077430</td>\n",
       "      <td>1314167</td>\n",
       "      <td>2500</td>\n",
       "      <td>2500</td>\n",
       "      <td>2500.0</td>\n",
       "      <td>60</td>\n",
       "      <td>15.27</td>\n",
       "      <td>59.83</td>\n",
       "      <td>C</td>\n",
       "      <td>C4</td>\n",
       "      <td>...</td>\n",
       "      <td>119.66</td>\n",
       "      <td>Sep-13</td>\n",
       "      <td>0.0</td>\n",
       "      <td>1</td>\n",
       "      <td>INDIVIDUAL</td>\n",
       "      <td>0</td>\n",
       "      <td>0.0</td>\n",
       "      <td>0</td>\n",
       "      <td>0.0</td>\n",
       "      <td>0.0</td>\n",
       "    </tr>\n",
       "    <tr>\n",
       "      <th>2</th>\n",
       "      <td>1077175</td>\n",
       "      <td>1313524</td>\n",
       "      <td>2400</td>\n",
       "      <td>2400</td>\n",
       "      <td>2400.0</td>\n",
       "      <td>36</td>\n",
       "      <td>15.96</td>\n",
       "      <td>84.33</td>\n",
       "      <td>C</td>\n",
       "      <td>C5</td>\n",
       "      <td>...</td>\n",
       "      <td>649.91</td>\n",
       "      <td>May-16</td>\n",
       "      <td>0.0</td>\n",
       "      <td>1</td>\n",
       "      <td>INDIVIDUAL</td>\n",
       "      <td>0</td>\n",
       "      <td>0.0</td>\n",
       "      <td>0</td>\n",
       "      <td>0.0</td>\n",
       "      <td>0.0</td>\n",
       "    </tr>\n",
       "    <tr>\n",
       "      <th>3</th>\n",
       "      <td>1076863</td>\n",
       "      <td>1277178</td>\n",
       "      <td>10000</td>\n",
       "      <td>10000</td>\n",
       "      <td>10000.0</td>\n",
       "      <td>36</td>\n",
       "      <td>13.49</td>\n",
       "      <td>339.31</td>\n",
       "      <td>C</td>\n",
       "      <td>C1</td>\n",
       "      <td>...</td>\n",
       "      <td>357.48</td>\n",
       "      <td>Apr-16</td>\n",
       "      <td>0.0</td>\n",
       "      <td>1</td>\n",
       "      <td>INDIVIDUAL</td>\n",
       "      <td>0</td>\n",
       "      <td>0.0</td>\n",
       "      <td>0</td>\n",
       "      <td>0.0</td>\n",
       "      <td>0.0</td>\n",
       "    </tr>\n",
       "    <tr>\n",
       "      <th>4</th>\n",
       "      <td>1075358</td>\n",
       "      <td>1311748</td>\n",
       "      <td>3000</td>\n",
       "      <td>3000</td>\n",
       "      <td>3000.0</td>\n",
       "      <td>60</td>\n",
       "      <td>12.69</td>\n",
       "      <td>67.79</td>\n",
       "      <td>B</td>\n",
       "      <td>B5</td>\n",
       "      <td>...</td>\n",
       "      <td>67.79</td>\n",
       "      <td>May-16</td>\n",
       "      <td>0.0</td>\n",
       "      <td>1</td>\n",
       "      <td>INDIVIDUAL</td>\n",
       "      <td>0</td>\n",
       "      <td>0.0</td>\n",
       "      <td>0</td>\n",
       "      <td>0.0</td>\n",
       "      <td>0.0</td>\n",
       "    </tr>\n",
       "    <tr>\n",
       "      <th>5</th>\n",
       "      <td>1075269</td>\n",
       "      <td>1311441</td>\n",
       "      <td>5000</td>\n",
       "      <td>5000</td>\n",
       "      <td>5000.0</td>\n",
       "      <td>36</td>\n",
       "      <td>7.90</td>\n",
       "      <td>156.46</td>\n",
       "      <td>A</td>\n",
       "      <td>A4</td>\n",
       "      <td>...</td>\n",
       "      <td>161.03</td>\n",
       "      <td>Jan-16</td>\n",
       "      <td>0.0</td>\n",
       "      <td>1</td>\n",
       "      <td>INDIVIDUAL</td>\n",
       "      <td>0</td>\n",
       "      <td>0.0</td>\n",
       "      <td>0</td>\n",
       "      <td>0.0</td>\n",
       "      <td>0.0</td>\n",
       "    </tr>\n",
       "    <tr>\n",
       "      <th>6</th>\n",
       "      <td>1069639</td>\n",
       "      <td>1304742</td>\n",
       "      <td>7000</td>\n",
       "      <td>7000</td>\n",
       "      <td>7000.0</td>\n",
       "      <td>60</td>\n",
       "      <td>15.96</td>\n",
       "      <td>170.08</td>\n",
       "      <td>C</td>\n",
       "      <td>C5</td>\n",
       "      <td>...</td>\n",
       "      <td>1313.76</td>\n",
       "      <td>May-16</td>\n",
       "      <td>0.0</td>\n",
       "      <td>1</td>\n",
       "      <td>INDIVIDUAL</td>\n",
       "      <td>0</td>\n",
       "      <td>0.0</td>\n",
       "      <td>0</td>\n",
       "      <td>0.0</td>\n",
       "      <td>0.0</td>\n",
       "    </tr>\n",
       "    <tr>\n",
       "      <th>8</th>\n",
       "      <td>1071795</td>\n",
       "      <td>1306957</td>\n",
       "      <td>5600</td>\n",
       "      <td>5600</td>\n",
       "      <td>5600.0</td>\n",
       "      <td>60</td>\n",
       "      <td>21.28</td>\n",
       "      <td>152.39</td>\n",
       "      <td>F</td>\n",
       "      <td>F2</td>\n",
       "      <td>...</td>\n",
       "      <td>152.39</td>\n",
       "      <td>Aug-12</td>\n",
       "      <td>0.0</td>\n",
       "      <td>1</td>\n",
       "      <td>INDIVIDUAL</td>\n",
       "      <td>0</td>\n",
       "      <td>0.0</td>\n",
       "      <td>0</td>\n",
       "      <td>0.0</td>\n",
       "      <td>0.0</td>\n",
       "    </tr>\n",
       "    <tr>\n",
       "      <th>9</th>\n",
       "      <td>1071570</td>\n",
       "      <td>1306721</td>\n",
       "      <td>5375</td>\n",
       "      <td>5375</td>\n",
       "      <td>5350.0</td>\n",
       "      <td>60</td>\n",
       "      <td>12.69</td>\n",
       "      <td>121.45</td>\n",
       "      <td>B</td>\n",
       "      <td>B5</td>\n",
       "      <td>...</td>\n",
       "      <td>121.45</td>\n",
       "      <td>Mar-13</td>\n",
       "      <td>0.0</td>\n",
       "      <td>1</td>\n",
       "      <td>INDIVIDUAL</td>\n",
       "      <td>0</td>\n",
       "      <td>0.0</td>\n",
       "      <td>0</td>\n",
       "      <td>0.0</td>\n",
       "      <td>0.0</td>\n",
       "    </tr>\n",
       "    <tr>\n",
       "      <th>12</th>\n",
       "      <td>1064687</td>\n",
       "      <td>1298717</td>\n",
       "      <td>9000</td>\n",
       "      <td>9000</td>\n",
       "      <td>9000.0</td>\n",
       "      <td>36</td>\n",
       "      <td>13.49</td>\n",
       "      <td>305.38</td>\n",
       "      <td>C</td>\n",
       "      <td>C1</td>\n",
       "      <td>...</td>\n",
       "      <td>305.38</td>\n",
       "      <td>Nov-12</td>\n",
       "      <td>0.0</td>\n",
       "      <td>1</td>\n",
       "      <td>INDIVIDUAL</td>\n",
       "      <td>0</td>\n",
       "      <td>0.0</td>\n",
       "      <td>0</td>\n",
       "      <td>0.0</td>\n",
       "      <td>0.0</td>\n",
       "    </tr>\n",
       "    <tr>\n",
       "      <th>14</th>\n",
       "      <td>1069057</td>\n",
       "      <td>1303503</td>\n",
       "      <td>10000</td>\n",
       "      <td>10000</td>\n",
       "      <td>10000.0</td>\n",
       "      <td>36</td>\n",
       "      <td>10.65</td>\n",
       "      <td>325.74</td>\n",
       "      <td>B</td>\n",
       "      <td>B2</td>\n",
       "      <td>...</td>\n",
       "      <td>325.74</td>\n",
       "      <td>Mar-14</td>\n",
       "      <td>0.0</td>\n",
       "      <td>1</td>\n",
       "      <td>INDIVIDUAL</td>\n",
       "      <td>0</td>\n",
       "      <td>0.0</td>\n",
       "      <td>0</td>\n",
       "      <td>0.0</td>\n",
       "      <td>0.0</td>\n",
       "    </tr>\n",
       "    <tr>\n",
       "      <th>32</th>\n",
       "      <td>1065420</td>\n",
       "      <td>1299514</td>\n",
       "      <td>10000</td>\n",
       "      <td>10000</td>\n",
       "      <td>9975.0</td>\n",
       "      <td>60</td>\n",
       "      <td>15.96</td>\n",
       "      <td>242.97</td>\n",
       "      <td>C</td>\n",
       "      <td>C5</td>\n",
       "      <td>...</td>\n",
       "      <td>242.97</td>\n",
       "      <td>Apr-16</td>\n",
       "      <td>0.0</td>\n",
       "      <td>1</td>\n",
       "      <td>INDIVIDUAL</td>\n",
       "      <td>0</td>\n",
       "      <td>0.0</td>\n",
       "      <td>0</td>\n",
       "      <td>0.0</td>\n",
       "      <td>0.0</td>\n",
       "    </tr>\n",
       "    <tr>\n",
       "      <th>39</th>\n",
       "      <td>1069346</td>\n",
       "      <td>1304237</td>\n",
       "      <td>12500</td>\n",
       "      <td>12500</td>\n",
       "      <td>12475.0</td>\n",
       "      <td>60</td>\n",
       "      <td>12.69</td>\n",
       "      <td>282.44</td>\n",
       "      <td>B</td>\n",
       "      <td>B5</td>\n",
       "      <td>...</td>\n",
       "      <td>282.44</td>\n",
       "      <td>May-16</td>\n",
       "      <td>0.0</td>\n",
       "      <td>1</td>\n",
       "      <td>INDIVIDUAL</td>\n",
       "      <td>0</td>\n",
       "      <td>0.0</td>\n",
       "      <td>0</td>\n",
       "      <td>0.0</td>\n",
       "      <td>0.0</td>\n",
       "    </tr>\n",
       "    <tr>\n",
       "      <th>86</th>\n",
       "      <td>1063958</td>\n",
       "      <td>1297940</td>\n",
       "      <td>14000</td>\n",
       "      <td>14000</td>\n",
       "      <td>13975.0</td>\n",
       "      <td>60</td>\n",
       "      <td>17.27</td>\n",
       "      <td>349.98</td>\n",
       "      <td>D</td>\n",
       "      <td>D3</td>\n",
       "      <td>...</td>\n",
       "      <td>349.98</td>\n",
       "      <td>May-16</td>\n",
       "      <td>0.0</td>\n",
       "      <td>1</td>\n",
       "      <td>INDIVIDUAL</td>\n",
       "      <td>0</td>\n",
       "      <td>0.0</td>\n",
       "      <td>0</td>\n",
       "      <td>0.0</td>\n",
       "      <td>0.0</td>\n",
       "    </tr>\n",
       "    <tr>\n",
       "      <th>95</th>\n",
       "      <td>1068575</td>\n",
       "      <td>1303001</td>\n",
       "      <td>15300</td>\n",
       "      <td>15300</td>\n",
       "      <td>15275.0</td>\n",
       "      <td>60</td>\n",
       "      <td>22.06</td>\n",
       "      <td>423.10</td>\n",
       "      <td>F</td>\n",
       "      <td>F4</td>\n",
       "      <td>...</td>\n",
       "      <td>423.10</td>\n",
       "      <td>May-16</td>\n",
       "      <td>0.0</td>\n",
       "      <td>1</td>\n",
       "      <td>INDIVIDUAL</td>\n",
       "      <td>0</td>\n",
       "      <td>0.0</td>\n",
       "      <td>0</td>\n",
       "      <td>0.0</td>\n",
       "      <td>0.0</td>\n",
       "    </tr>\n",
       "  </tbody>\n",
       "</table>\n",
       "<p>15 rows × 52 columns</p>\n",
       "</div>"
      ],
      "text/plain": [
       "         id  member_id  loan_amnt  funded_amnt  funded_amnt_inv  term_months  \\\n",
       "0   1077501    1296599       5000         5000           4975.0           36   \n",
       "1   1077430    1314167       2500         2500           2500.0           60   \n",
       "2   1077175    1313524       2400         2400           2400.0           36   \n",
       "3   1076863    1277178      10000        10000          10000.0           36   \n",
       "4   1075358    1311748       3000         3000           3000.0           60   \n",
       "5   1075269    1311441       5000         5000           5000.0           36   \n",
       "6   1069639    1304742       7000         7000           7000.0           60   \n",
       "8   1071795    1306957       5600         5600           5600.0           60   \n",
       "9   1071570    1306721       5375         5375           5350.0           60   \n",
       "12  1064687    1298717       9000         9000           9000.0           36   \n",
       "14  1069057    1303503      10000        10000          10000.0           36   \n",
       "32  1065420    1299514      10000        10000           9975.0           60   \n",
       "39  1069346    1304237      12500        12500          12475.0           60   \n",
       "86  1063958    1297940      14000        14000          13975.0           60   \n",
       "95  1068575    1303001      15300        15300          15275.0           60   \n",
       "\n",
       "    int_rate  installment grade sub_grade  ... last_pymnt_amnt  \\\n",
       "0      10.65       162.87     B        B2  ...          171.62   \n",
       "1      15.27        59.83     C        C4  ...          119.66   \n",
       "2      15.96        84.33     C        C5  ...          649.91   \n",
       "3      13.49       339.31     C        C1  ...          357.48   \n",
       "4      12.69        67.79     B        B5  ...           67.79   \n",
       "5       7.90       156.46     A        A4  ...          161.03   \n",
       "6      15.96       170.08     C        C5  ...         1313.76   \n",
       "8      21.28       152.39     F        F2  ...          152.39   \n",
       "9      12.69       121.45     B        B5  ...          121.45   \n",
       "12     13.49       305.38     C        C1  ...          305.38   \n",
       "14     10.65       325.74     B        B2  ...          325.74   \n",
       "32     15.96       242.97     C        C5  ...          242.97   \n",
       "39     12.69       282.44     B        B5  ...          282.44   \n",
       "86     17.27       349.98     D        D3  ...          349.98   \n",
       "95     22.06       423.10     F        F4  ...          423.10   \n",
       "\n",
       "   last_credit_pull_d collections_12_mths_ex_med  policy_code  \\\n",
       "0              May-16                        0.0            1   \n",
       "1              Sep-13                        0.0            1   \n",
       "2              May-16                        0.0            1   \n",
       "3              Apr-16                        0.0            1   \n",
       "4              May-16                        0.0            1   \n",
       "5              Jan-16                        0.0            1   \n",
       "6              May-16                        0.0            1   \n",
       "8              Aug-12                        0.0            1   \n",
       "9              Mar-13                        0.0            1   \n",
       "12             Nov-12                        0.0            1   \n",
       "14             Mar-14                        0.0            1   \n",
       "32             Apr-16                        0.0            1   \n",
       "39             May-16                        0.0            1   \n",
       "86             May-16                        0.0            1   \n",
       "95             May-16                        0.0            1   \n",
       "\n",
       "   application_type acc_now_delinq chargeoff_within_12_mths delinq_amnt  \\\n",
       "0        INDIVIDUAL              0                      0.0           0   \n",
       "1        INDIVIDUAL              0                      0.0           0   \n",
       "2        INDIVIDUAL              0                      0.0           0   \n",
       "3        INDIVIDUAL              0                      0.0           0   \n",
       "4        INDIVIDUAL              0                      0.0           0   \n",
       "5        INDIVIDUAL              0                      0.0           0   \n",
       "6        INDIVIDUAL              0                      0.0           0   \n",
       "8        INDIVIDUAL              0                      0.0           0   \n",
       "9        INDIVIDUAL              0                      0.0           0   \n",
       "12       INDIVIDUAL              0                      0.0           0   \n",
       "14       INDIVIDUAL              0                      0.0           0   \n",
       "32       INDIVIDUAL              0                      0.0           0   \n",
       "39       INDIVIDUAL              0                      0.0           0   \n",
       "86       INDIVIDUAL              0                      0.0           0   \n",
       "95       INDIVIDUAL              0                      0.0           0   \n",
       "\n",
       "   pub_rec_bankruptcies tax_liens  \n",
       "0                   0.0       0.0  \n",
       "1                   0.0       0.0  \n",
       "2                   0.0       0.0  \n",
       "3                   0.0       0.0  \n",
       "4                   0.0       0.0  \n",
       "5                   0.0       0.0  \n",
       "6                   0.0       0.0  \n",
       "8                   0.0       0.0  \n",
       "9                   0.0       0.0  \n",
       "12                  0.0       0.0  \n",
       "14                  0.0       0.0  \n",
       "32                  0.0       0.0  \n",
       "39                  0.0       0.0  \n",
       "86                  0.0       0.0  \n",
       "95                  0.0       0.0  \n",
       "\n",
       "[15 rows x 52 columns]"
      ]
     },
     "execution_count": 25,
     "metadata": {},
     "output_type": "execute_result"
    }
   ],
   "source": [
    "#loan_master = loan_master.groupby(by='loan_status')\n",
    "loan_master.head()"
   ]
  },
  {
   "cell_type": "code",
   "execution_count": 26,
   "metadata": {},
   "outputs": [
    {
     "data": {
      "text/plain": [
       "loan_status  loan_status\n",
       "Charged Off  Charged Off     5398\n",
       "Current      Current         1098\n",
       "Fully Paid   Fully Paid     32144\n",
       "Name: loan_status, dtype: int64"
      ]
     },
     "execution_count": 26,
     "metadata": {},
     "output_type": "execute_result"
    }
   ],
   "source": [
    "loan_master['loan_status'].value_counts()"
   ]
  },
  {
   "cell_type": "code",
   "execution_count": 27,
   "metadata": {},
   "outputs": [
    {
     "data": {
      "text/plain": [
       "loan_status\n",
       "Charged Off     5398\n",
       "Current         1098\n",
       "Fully Paid     32144\n",
       "Name: funded_amnt, dtype: int64"
      ]
     },
     "execution_count": 27,
     "metadata": {},
     "output_type": "execute_result"
    }
   ],
   "source": [
    "loan_master['funded_amnt'].count()"
   ]
  },
  {
   "cell_type": "code",
   "execution_count": 28,
   "metadata": {
    "scrolled": false
   },
   "outputs": [],
   "source": [
    "#charged_off_loans = loan_master[loan_master['loan_status']=='Charged Off']"
   ]
  },
  {
   "cell_type": "code",
   "execution_count": 29,
   "metadata": {
    "scrolled": true
   },
   "outputs": [
    {
     "data": {
      "text/plain": [
       "loan_status  loan_status\n",
       "Charged Off  Charged Off     5398\n",
       "Current      Current         1098\n",
       "Fully Paid   Fully Paid     32144\n",
       "Name: loan_status, dtype: int64"
      ]
     },
     "execution_count": 29,
     "metadata": {},
     "output_type": "execute_result"
    }
   ],
   "source": [
    "loan_master['loan_status'].value_counts()"
   ]
  },
  {
   "cell_type": "markdown",
   "metadata": {},
   "source": [
    "#loan attributes \n",
    "funded amount inv\n",
    "int rate\n",
    "term\n",
    "installment\n",
    "grade\n",
    "total pymt\n"
   ]
  },
  {
   "cell_type": "markdown",
   "metadata": {},
   "source": [
    "#customer attributes\n",
    "verification\n",
    "annual income\n",
    "emp length\n",
    "purpose\n",
    "addr state\n",
    "total acc"
   ]
  }
 ],
 "metadata": {
  "kernelspec": {
   "display_name": "Python 3",
   "language": "python",
   "name": "python3"
  },
  "language_info": {
   "codemirror_mode": {
    "name": "ipython",
    "version": 3
   },
   "file_extension": ".py",
   "mimetype": "text/x-python",
   "name": "python",
   "nbconvert_exporter": "python",
   "pygments_lexer": "ipython3",
   "version": "3.8.3"
  }
 },
 "nbformat": 4,
 "nbformat_minor": 4
}
