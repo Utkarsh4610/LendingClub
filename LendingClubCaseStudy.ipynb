{
 "cells": [
  {
   "cell_type": "code",
   "execution_count": 71,
   "metadata": {},
   "outputs": [],
   "source": [
    "import numpy as np\n",
    "import pandas as pd"
   ]
  },
  {
   "cell_type": "markdown",
   "metadata": {},
   "source": [
    "#### Load Dataframe"
   ]
  },
  {
   "cell_type": "code",
   "execution_count": 72,
   "metadata": {},
   "outputs": [],
   "source": [
    "#load data in dataframe\n",
    "loan_master = pd.read_csv('loan.csv',low_memory=False)"
   ]
  },
  {
   "cell_type": "code",
   "execution_count": 73,
   "metadata": {},
   "outputs": [
    {
     "data": {
      "text/plain": [
       "(39717, 111)"
      ]
     },
     "execution_count": 73,
     "metadata": {},
     "output_type": "execute_result"
    }
   ],
   "source": [
    "#check number of rows and columns\n",
    "loan_master.shape"
   ]
  },
  {
   "cell_type": "markdown",
   "metadata": {},
   "source": [
    "#### User Defined Functions "
   ]
  },
  {
   "cell_type": "code",
   "execution_count": 74,
   "metadata": {},
   "outputs": [],
   "source": [
    "#function to check for nulls and only display the columns having nulls \n",
    "def check_null(dataframe, percentage=True):\n",
    "    if percentage==True:\n",
    "        return round(dataframe.isnull().mean()[dataframe.isnull().mean()>0].apply(lambda x: x*100),3)\n",
    "    else:\n",
    "        return dataframe.isnull().sum()[dataframe.isnull().sum()>0]"
   ]
  },
  {
   "cell_type": "code",
   "execution_count": 75,
   "metadata": {},
   "outputs": [],
   "source": [
    "#function to drop irrelevant columns\n",
    "def drop_irrelevant_columns(dataframe, column_list):\n",
    "    dataframe.drop(column_list, axis=1, inplace=True, errors='ignore')"
   ]
  },
  {
   "cell_type": "code",
   "execution_count": 76,
   "metadata": {},
   "outputs": [],
   "source": [
    "#function to perfom data cleaning in one go\n",
    "#drops columns with percentage of nulls > percentage_high parameter\n",
    "#drops rows of columns having percentage of nulls < percentage_lower parameter\n",
    "def dropna_in_perc_range(dataframe, percentage_low, percentage_high):\n",
    "    dropna_cols_perc(dataframe, percentage_high)\n",
    "    dropna_rows_perc(dataframe, percentage_low)"
   ]
  },
  {
   "cell_type": "code",
   "execution_count": 77,
   "metadata": {},
   "outputs": [],
   "source": [
    "#function to drop columns based on NULLs percentage\n",
    "def dropna_cols_perc(dataframe, percentage):\n",
    "    n_thresh = int(len(loan_master)*(1-(percentage/100)))\n",
    "    dataframe.dropna(axis=1, thresh=n_thresh, inplace=True)"
   ]
  },
  {
   "cell_type": "code",
   "execution_count": 78,
   "metadata": {},
   "outputs": [],
   "source": [
    "#function to drop rows based on NULLs percentage\n",
    "def dropna_rows_perc(dataframe, percentage):\n",
    "    col_data = check_null(dataframe).reset_index()\n",
    "    col_list = col_data['index'][col_data.iloc[:,-1]<percentage].tolist()\n",
    "    dataframe.dropna(subset=col_list, inplace=True)"
   ]
  },
  {
   "cell_type": "markdown",
   "metadata": {},
   "source": [
    "## Data Cleaning"
   ]
  },
  {
   "cell_type": "code",
   "execution_count": 79,
   "metadata": {},
   "outputs": [
    {
     "data": {
      "text/plain": [
       "emp_title                       6.191\n",
       "emp_length                      2.707\n",
       "desc                           32.581\n",
       "title                           0.028\n",
       "mths_since_last_delinq         64.662\n",
       "                               ...   \n",
       "tax_liens                       0.098\n",
       "tot_hi_cred_lim               100.000\n",
       "total_bal_ex_mort             100.000\n",
       "total_bc_limit                100.000\n",
       "total_il_high_credit_limit    100.000\n",
       "Length: 68, dtype: float64"
      ]
     },
     "execution_count": 79,
     "metadata": {},
     "output_type": "execute_result"
    }
   ],
   "source": [
    "#check columns having nulls\n",
    "check_null(loan_master)"
   ]
  },
  {
   "cell_type": "markdown",
   "metadata": {},
   "source": [
    "##### Drop columns having ALL nulls"
   ]
  },
  {
   "cell_type": "code",
   "execution_count": 80,
   "metadata": {
    "scrolled": true
   },
   "outputs": [
    {
     "data": {
      "text/plain": [
       "(39717, 57)"
      ]
     },
     "execution_count": 80,
     "metadata": {},
     "output_type": "execute_result"
    }
   ],
   "source": [
    "loan_master.dropna(axis=1, how='all', inplace=True)\n",
    "#check shape again\n",
    "loan_master.shape\n",
    "#54 such columns removed"
   ]
  },
  {
   "cell_type": "code",
   "execution_count": 81,
   "metadata": {
    "scrolled": true
   },
   "outputs": [
    {
     "data": {
      "text/plain": [
       "emp_title                      6.191\n",
       "emp_length                     2.707\n",
       "desc                          32.581\n",
       "title                          0.028\n",
       "mths_since_last_delinq        64.662\n",
       "mths_since_last_record        92.985\n",
       "revol_util                     0.126\n",
       "last_pymnt_d                   0.179\n",
       "next_pymnt_d                  97.130\n",
       "last_credit_pull_d             0.005\n",
       "collections_12_mths_ex_med     0.141\n",
       "chargeoff_within_12_mths       0.141\n",
       "pub_rec_bankruptcies           1.755\n",
       "tax_liens                      0.098\n",
       "dtype: float64"
      ]
     },
     "execution_count": 81,
     "metadata": {},
     "output_type": "execute_result"
    }
   ],
   "source": [
    "check_null(loan_master)"
   ]
  },
  {
   "cell_type": "markdown",
   "metadata": {},
   "source": [
    "Based on percentages from null check above\n",
    "##### Drop columns with >90% null rows\n",
    "Columns removed: next_pymnt_d and mths_since_last_record\n",
    "##### Drop rows of columns with <7% of nulls\n",
    "Rows removed for columns: \n",
    "emp_title, emp_length, title, revol_util, last_pymnt_d, last_credit_pull_d,\n",
    "collections_12_mths_ex_med, chargeoff_within_12_mths, pub_rec_bankruptcies, tax_liens"
   ]
  },
  {
   "cell_type": "code",
   "execution_count": 82,
   "metadata": {},
   "outputs": [
    {
     "data": {
      "text/plain": [
       "(36431, 55)"
      ]
     },
     "execution_count": 82,
     "metadata": {},
     "output_type": "execute_result"
    }
   ],
   "source": [
    "dropna_in_perc_range(loan_master, 7, 90)\n",
    "#check shape again\n",
    "loan_master.shape\n",
    "#2 columns and some rows removed"
   ]
  },
  {
   "cell_type": "code",
   "execution_count": 83,
   "metadata": {},
   "outputs": [
    {
     "data": {
      "text/plain": [
       "desc                      33.008\n",
       "mths_since_last_delinq    65.697\n",
       "dtype: float64"
      ]
     },
     "execution_count": 83,
     "metadata": {},
     "output_type": "execute_result"
    }
   ],
   "source": [
    "check_null(loan_master)"
   ]
  },
  {
   "cell_type": "markdown",
   "metadata": {},
   "source": [
    "##### Drop irrelevant columns"
   ]
  },
  {
   "cell_type": "code",
   "execution_count": 84,
   "metadata": {},
   "outputs": [],
   "source": [
    "#list columns that are determined to be irrelevant to our analysis\n",
    "list_irrelevant_cols=[]\n",
    "list_irrelevant_cols.append('desc')#text entered by borrower \n",
    "list_irrelevant_cols.append('zip_code')#first 3 chars only followed by xx\n",
    "list_irrelevant_cols.append('url')#loan id already available\n",
    "list_irrelevant_cols.append('acc_now_delinq')#only having 0s/Nas\n",
    "list_irrelevant_cols.append('title')#use purpose instead\n",
    "list_irrelevant_cols.append('application_type')#all loans are individual\n",
    "list_irrelevant_cols.append('chargeoff_within_12_mths')#only having 0s/Nas\n",
    "list_irrelevant_cols.append('collections_12_mths_ex_med')#only having 0s/Nas\n",
    "list_irrelevant_cols.append('delinq_amnt')#only having 0s/Nas\n",
    "list_irrelevant_cols.append('initial_list_status')#only having value f\n",
    "list_irrelevant_cols.append('policy_code')#only having value 1\n",
    "list_irrelevant_cols.append('tax_liens')#only having 0s/Nas"
   ]
  },
  {
   "cell_type": "code",
   "execution_count": 86,
   "metadata": {
    "scrolled": true
   },
   "outputs": [],
   "source": [
    "drop_irrelevant_columns(loan_master,list_irrelevant_cols)"
   ]
  },
  {
   "cell_type": "code",
   "execution_count": 87,
   "metadata": {},
   "outputs": [
    {
     "data": {
      "text/plain": [
       "(36431, 43)"
      ]
     },
     "execution_count": 87,
     "metadata": {},
     "output_type": "execute_result"
    }
   ],
   "source": [
    "loan_master.shape\n",
    "#43 columns left"
   ]
  },
  {
   "cell_type": "markdown",
   "metadata": {},
   "source": [
    "##### Handle Data Types"
   ]
  },
  {
   "cell_type": "code",
   "execution_count": 96,
   "metadata": {},
   "outputs": [
    {
     "name": "stdout",
     "output_type": "stream",
     "text": [
      "<class 'pandas.core.frame.DataFrame'>\n",
      "Int64Index: 36431 entries, 1 to 39623\n",
      "Data columns (total 43 columns):\n",
      " #   Column                   Non-Null Count  Dtype         \n",
      "---  ------                   --------------  -----         \n",
      " 0   id                       36431 non-null  int64         \n",
      " 1   member_id                36431 non-null  int64         \n",
      " 2   loan_amnt                36431 non-null  int64         \n",
      " 3   funded_amnt              36431 non-null  int64         \n",
      " 4   funded_amnt_inv          36431 non-null  float64       \n",
      " 5   term_months              36431 non-null  int64         \n",
      " 6   int_rate                 36431 non-null  float64       \n",
      " 7   installment              36431 non-null  float64       \n",
      " 8   grade                    36431 non-null  object        \n",
      " 9   sub_grade                36431 non-null  object        \n",
      " 10  emp_title                36431 non-null  object        \n",
      " 11  emp_length               36431 non-null  object        \n",
      " 12  home_ownership           36431 non-null  object        \n",
      " 13  annual_inc               36431 non-null  float64       \n",
      " 14  verification_status      36431 non-null  object        \n",
      " 15  issue_d                  36431 non-null  object        \n",
      " 16  loan_status              36431 non-null  object        \n",
      " 17  pymnt_plan               36431 non-null  object        \n",
      " 18  purpose                  36431 non-null  object        \n",
      " 19  addr_state               36431 non-null  object        \n",
      " 20  dti                      36431 non-null  float64       \n",
      " 21  delinq_2yrs              36431 non-null  int64         \n",
      " 22  earliest_cr_line         36431 non-null  datetime64[ns]\n",
      " 23  inq_last_6mths           36431 non-null  int64         \n",
      " 24  mths_since_last_delinq   12497 non-null  float64       \n",
      " 25  open_acc                 36431 non-null  int64         \n",
      " 26  pub_rec                  36431 non-null  int64         \n",
      " 27  revol_bal                36431 non-null  int64         \n",
      " 28  revol_util               36431 non-null  object        \n",
      " 29  total_acc                36431 non-null  int64         \n",
      " 30  out_prncp                36431 non-null  float64       \n",
      " 31  out_prncp_inv            36431 non-null  float64       \n",
      " 32  total_pymnt              36431 non-null  float64       \n",
      " 33  total_pymnt_inv          36431 non-null  float64       \n",
      " 34  total_rec_prncp          36431 non-null  float64       \n",
      " 35  total_rec_int            36431 non-null  float64       \n",
      " 36  total_rec_late_fee       36431 non-null  float64       \n",
      " 37  recoveries               36431 non-null  float64       \n",
      " 38  collection_recovery_fee  36431 non-null  float64       \n",
      " 39  last_pymnt_d             36431 non-null  object        \n",
      " 40  last_pymnt_amnt          36431 non-null  float64       \n",
      " 41  last_credit_pull_d       36431 non-null  object        \n",
      " 42  pub_rec_bankruptcies     36431 non-null  float64       \n",
      "dtypes: datetime64[ns](1), float64(17), int64(11), object(14)\n",
      "memory usage: 12.2+ MB\n"
     ]
    }
   ],
   "source": [
    "loan_master.info()"
   ]
  },
  {
   "cell_type": "code",
   "execution_count": 88,
   "metadata": {
    "scrolled": true
   },
   "outputs": [],
   "source": [
    "#fix data type for 'term'\n",
    "loan_master['term'] = loan_master['term'].apply(lambda x: str(x).replace('months','').strip()).astype('int64')\n",
    "loan_master = loan_master.rename(columns={'term':'term_months'})"
   ]
  },
  {
   "cell_type": "code",
   "execution_count": 89,
   "metadata": {},
   "outputs": [],
   "source": [
    "#fix data type for 'int_rate'\n",
    "loan_master['int_rate'] = loan_master['int_rate'].apply(lambda x: str(x).replace('%','').strip()).astype('float64')"
   ]
  },
  {
   "cell_type": "code",
   "execution_count": 95,
   "metadata": {},
   "outputs": [
    {
     "data": {
      "text/plain": [
       "dtype('<M8[ns]')"
      ]
     },
     "execution_count": 95,
     "metadata": {},
     "output_type": "execute_result"
    }
   ],
   "source": [
    "#fix data type for 'earliest_cr_line'\n",
    "loan_master['earliest_cr_line'] = pd.to_datetime(loan_master['earliest_cr_line'], format='%b-%y')"
   ]
  },
  {
   "cell_type": "code",
   "execution_count": 36,
   "metadata": {},
   "outputs": [
    {
     "data": {
      "text/plain": [
       "10+ years    8407\n",
       "2 years      4176\n",
       "< 1 year     4052\n",
       "3 years      3914\n",
       "4 years      3297\n",
       "5 years      3129\n",
       "1 year       3026\n",
       "6 years      2121\n",
       "7 years      1697\n",
       "8 years      1405\n",
       "9 years      1207\n",
       "Name: emp_length, dtype: int64"
      ]
     },
     "execution_count": 36,
     "metadata": {},
     "output_type": "execute_result"
    }
   ],
   "source": [
    "#fix data type emp_length\n",
    "loan_master['emp_length'].value_counts()"
   ]
  },
  {
   "cell_type": "code",
   "execution_count": 35,
   "metadata": {},
   "outputs": [
    {
     "data": {
      "text/html": [
       "<div>\n",
       "<style scoped>\n",
       "    .dataframe tbody tr th:only-of-type {\n",
       "        vertical-align: middle;\n",
       "    }\n",
       "\n",
       "    .dataframe tbody tr th {\n",
       "        vertical-align: top;\n",
       "    }\n",
       "\n",
       "    .dataframe thead th {\n",
       "        text-align: right;\n",
       "    }\n",
       "</style>\n",
       "<table border=\"1\" class=\"dataframe\">\n",
       "  <thead>\n",
       "    <tr style=\"text-align: right;\">\n",
       "      <th></th>\n",
       "      <th>id</th>\n",
       "      <th>member_id</th>\n",
       "      <th>loan_amnt</th>\n",
       "      <th>funded_amnt</th>\n",
       "      <th>funded_amnt_inv</th>\n",
       "      <th>term_months</th>\n",
       "      <th>int_rate</th>\n",
       "      <th>installment</th>\n",
       "      <th>grade</th>\n",
       "      <th>sub_grade</th>\n",
       "      <th>...</th>\n",
       "      <th>last_pymnt_amnt</th>\n",
       "      <th>last_credit_pull_d</th>\n",
       "      <th>collections_12_mths_ex_med</th>\n",
       "      <th>policy_code</th>\n",
       "      <th>application_type</th>\n",
       "      <th>acc_now_delinq</th>\n",
       "      <th>chargeoff_within_12_mths</th>\n",
       "      <th>delinq_amnt</th>\n",
       "      <th>pub_rec_bankruptcies</th>\n",
       "      <th>tax_liens</th>\n",
       "    </tr>\n",
       "  </thead>\n",
       "  <tbody>\n",
       "    <tr>\n",
       "      <th>1</th>\n",
       "      <td>1077430</td>\n",
       "      <td>1314167</td>\n",
       "      <td>2500</td>\n",
       "      <td>2500</td>\n",
       "      <td>2500.0</td>\n",
       "      <td>60</td>\n",
       "      <td>15.27</td>\n",
       "      <td>59.83</td>\n",
       "      <td>C</td>\n",
       "      <td>C4</td>\n",
       "      <td>...</td>\n",
       "      <td>119.66</td>\n",
       "      <td>Sep-13</td>\n",
       "      <td>0.0</td>\n",
       "      <td>1</td>\n",
       "      <td>INDIVIDUAL</td>\n",
       "      <td>0</td>\n",
       "      <td>0.0</td>\n",
       "      <td>0</td>\n",
       "      <td>0.0</td>\n",
       "      <td>0.0</td>\n",
       "    </tr>\n",
       "    <tr>\n",
       "      <th>3</th>\n",
       "      <td>1076863</td>\n",
       "      <td>1277178</td>\n",
       "      <td>10000</td>\n",
       "      <td>10000</td>\n",
       "      <td>10000.0</td>\n",
       "      <td>36</td>\n",
       "      <td>13.49</td>\n",
       "      <td>339.31</td>\n",
       "      <td>C</td>\n",
       "      <td>C1</td>\n",
       "      <td>...</td>\n",
       "      <td>357.48</td>\n",
       "      <td>Apr-16</td>\n",
       "      <td>0.0</td>\n",
       "      <td>1</td>\n",
       "      <td>INDIVIDUAL</td>\n",
       "      <td>0</td>\n",
       "      <td>0.0</td>\n",
       "      <td>0</td>\n",
       "      <td>0.0</td>\n",
       "      <td>0.0</td>\n",
       "    </tr>\n",
       "    <tr>\n",
       "      <th>4</th>\n",
       "      <td>1075358</td>\n",
       "      <td>1311748</td>\n",
       "      <td>3000</td>\n",
       "      <td>3000</td>\n",
       "      <td>3000.0</td>\n",
       "      <td>60</td>\n",
       "      <td>12.69</td>\n",
       "      <td>67.79</td>\n",
       "      <td>B</td>\n",
       "      <td>B5</td>\n",
       "      <td>...</td>\n",
       "      <td>67.79</td>\n",
       "      <td>May-16</td>\n",
       "      <td>0.0</td>\n",
       "      <td>1</td>\n",
       "      <td>INDIVIDUAL</td>\n",
       "      <td>0</td>\n",
       "      <td>0.0</td>\n",
       "      <td>0</td>\n",
       "      <td>0.0</td>\n",
       "      <td>0.0</td>\n",
       "    </tr>\n",
       "    <tr>\n",
       "      <th>5</th>\n",
       "      <td>1075269</td>\n",
       "      <td>1311441</td>\n",
       "      <td>5000</td>\n",
       "      <td>5000</td>\n",
       "      <td>5000.0</td>\n",
       "      <td>36</td>\n",
       "      <td>7.90</td>\n",
       "      <td>156.46</td>\n",
       "      <td>A</td>\n",
       "      <td>A4</td>\n",
       "      <td>...</td>\n",
       "      <td>161.03</td>\n",
       "      <td>Jan-16</td>\n",
       "      <td>0.0</td>\n",
       "      <td>1</td>\n",
       "      <td>INDIVIDUAL</td>\n",
       "      <td>0</td>\n",
       "      <td>0.0</td>\n",
       "      <td>0</td>\n",
       "      <td>0.0</td>\n",
       "      <td>0.0</td>\n",
       "    </tr>\n",
       "    <tr>\n",
       "      <th>6</th>\n",
       "      <td>1069639</td>\n",
       "      <td>1304742</td>\n",
       "      <td>7000</td>\n",
       "      <td>7000</td>\n",
       "      <td>7000.0</td>\n",
       "      <td>60</td>\n",
       "      <td>15.96</td>\n",
       "      <td>170.08</td>\n",
       "      <td>C</td>\n",
       "      <td>C5</td>\n",
       "      <td>...</td>\n",
       "      <td>1313.76</td>\n",
       "      <td>May-16</td>\n",
       "      <td>0.0</td>\n",
       "      <td>1</td>\n",
       "      <td>INDIVIDUAL</td>\n",
       "      <td>0</td>\n",
       "      <td>0.0</td>\n",
       "      <td>0</td>\n",
       "      <td>0.0</td>\n",
       "      <td>0.0</td>\n",
       "    </tr>\n",
       "  </tbody>\n",
       "</table>\n",
       "<p>5 rows × 52 columns</p>\n",
       "</div>"
      ],
      "text/plain": [
       "        id  member_id  loan_amnt  funded_amnt  funded_amnt_inv  term_months  \\\n",
       "1  1077430    1314167       2500         2500           2500.0           60   \n",
       "3  1076863    1277178      10000        10000          10000.0           36   \n",
       "4  1075358    1311748       3000         3000           3000.0           60   \n",
       "5  1075269    1311441       5000         5000           5000.0           36   \n",
       "6  1069639    1304742       7000         7000           7000.0           60   \n",
       "\n",
       "   int_rate  installment grade sub_grade  ... last_pymnt_amnt  \\\n",
       "1     15.27        59.83     C        C4  ...          119.66   \n",
       "3     13.49       339.31     C        C1  ...          357.48   \n",
       "4     12.69        67.79     B        B5  ...           67.79   \n",
       "5      7.90       156.46     A        A4  ...          161.03   \n",
       "6     15.96       170.08     C        C5  ...         1313.76   \n",
       "\n",
       "  last_credit_pull_d collections_12_mths_ex_med  policy_code application_type  \\\n",
       "1             Sep-13                        0.0            1       INDIVIDUAL   \n",
       "3             Apr-16                        0.0            1       INDIVIDUAL   \n",
       "4             May-16                        0.0            1       INDIVIDUAL   \n",
       "5             Jan-16                        0.0            1       INDIVIDUAL   \n",
       "6             May-16                        0.0            1       INDIVIDUAL   \n",
       "\n",
       "  acc_now_delinq chargeoff_within_12_mths delinq_amnt pub_rec_bankruptcies  \\\n",
       "1              0                      0.0           0                  0.0   \n",
       "3              0                      0.0           0                  0.0   \n",
       "4              0                      0.0           0                  0.0   \n",
       "5              0                      0.0           0                  0.0   \n",
       "6              0                      0.0           0                  0.0   \n",
       "\n",
       "  tax_liens  \n",
       "1       0.0  \n",
       "3       0.0  \n",
       "4       0.0  \n",
       "5       0.0  \n",
       "6       0.0  \n",
       "\n",
       "[5 rows x 52 columns]"
      ]
     },
     "execution_count": 35,
     "metadata": {},
     "output_type": "execute_result"
    }
   ],
   "source": [
    "loan_master.head()"
   ]
  },
  {
   "cell_type": "markdown",
   "metadata": {},
   "source": [
    "### Analysis"
   ]
  },
  {
   "cell_type": "code",
   "execution_count": null,
   "metadata": {},
   "outputs": [],
   "source": [
    "#check uniqueness of id and member id\n",
    "print('unique id: ',loan_master['id'].nunique())\n",
    "print('unique member id: ',loan_master['member_id'].nunique())\n",
    "#both are unique"
   ]
  },
  {
   "cell_type": "code",
   "execution_count": null,
   "metadata": {},
   "outputs": [],
   "source": [
    "#create separate data frames based on loan status\n",
    "charged_off_loans = loan_master[loan_master['loan_status']=='Charged Off']\n",
    "current_loans = loan_master[loan_master['loan_status']=='Current']\n",
    "fully_paid_loans = loan_master[loan_master['loan_status']=='Fully Paid']"
   ]
  },
  {
   "cell_type": "code",
   "execution_count": null,
   "metadata": {},
   "outputs": [],
   "source": [
    "#avg open accounts\n",
    "loan_custattr = pd.pivot_table(loan_master,index='loan_status',values='open_acc',aggfunc=np.median)\n",
    "loan_custattr\n",
    "#doesn't matter"
   ]
  },
  {
   "cell_type": "code",
   "execution_count": null,
   "metadata": {},
   "outputs": [],
   "source": [
    "#avg total accounts\n",
    "loan_custattr = pd.pivot_table(loan_master,index='loan_status',values='total_acc',aggfunc=np.median)\n",
    "loan_custattr\n",
    "#doesn't matter"
   ]
  },
  {
   "cell_type": "code",
   "execution_count": null,
   "metadata": {},
   "outputs": [],
   "source": [
    "#verification status\n",
    "charged_off_loans['verification_status'].value_counts()"
   ]
  },
  {
   "cell_type": "code",
   "execution_count": null,
   "metadata": {
    "scrolled": true
   },
   "outputs": [],
   "source": [
    "#verification status\n",
    "fully_paid_loans['verification_status'].value_counts()"
   ]
  },
  {
   "cell_type": "code",
   "execution_count": null,
   "metadata": {
    "scrolled": true
   },
   "outputs": [],
   "source": [
    "#loan_master = loan_master.groupby(by='loan_status')\n",
    "loan_master.head()"
   ]
  },
  {
   "cell_type": "code",
   "execution_count": null,
   "metadata": {},
   "outputs": [],
   "source": [
    "loan_master['loan_status'].value_counts()"
   ]
  },
  {
   "cell_type": "code",
   "execution_count": null,
   "metadata": {},
   "outputs": [],
   "source": [
    "loan_master['funded_amnt'].count()"
   ]
  },
  {
   "cell_type": "code",
   "execution_count": null,
   "metadata": {
    "scrolled": false
   },
   "outputs": [],
   "source": [
    "#charged_off_loans = loan_master[loan_master['loan_status']=='Charged Off']"
   ]
  },
  {
   "cell_type": "code",
   "execution_count": null,
   "metadata": {
    "scrolled": true
   },
   "outputs": [],
   "source": [
    "loan_master['loan_status'].value_counts()"
   ]
  },
  {
   "cell_type": "markdown",
   "metadata": {},
   "source": [
    "#loan attributes \n",
    "funded amount inv\n",
    "int rate\n",
    "term\n",
    "installment\n",
    "grade\n",
    "total pymt\n"
   ]
  },
  {
   "cell_type": "markdown",
   "metadata": {},
   "source": [
    "#customer attributes\n",
    "verification\n",
    "annual income\n",
    "emp length\n",
    "purpose\n",
    "addr state\n",
    "total acc"
   ]
  }
 ],
 "metadata": {
  "kernelspec": {
   "display_name": "Python 3",
   "language": "python",
   "name": "python3"
  },
  "language_info": {
   "codemirror_mode": {
    "name": "ipython",
    "version": 3
   },
   "file_extension": ".py",
   "mimetype": "text/x-python",
   "name": "python",
   "nbconvert_exporter": "python",
   "pygments_lexer": "ipython3",
   "version": "3.8.3"
  }
 },
 "nbformat": 4,
 "nbformat_minor": 4
}
